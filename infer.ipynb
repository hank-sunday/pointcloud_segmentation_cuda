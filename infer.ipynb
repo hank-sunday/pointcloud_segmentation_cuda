{
 "cells": [
  {
   "cell_type": "markdown",
   "metadata": {},
   "source": [
    "### 注意你需要选择 gpu作为runtime ###"
   ]
  },
  {
   "cell_type": "code",
   "execution_count": null,
   "metadata": {},
   "outputs": [],
   "source": [
    "!git clone https://github.com/hank-sunday/pointcloud_segmentation_cuda\n",
    "import os\n",
    "os.chdir('pointcloud_segmentation_cuda')\n",
    "print(os.getcwd())"
   ]
  },
  {
   "cell_type": "code",
   "execution_count": null,
   "metadata": {},
   "outputs": [],
   "source": [
    "# Google's sparse hash project. Used in torchsparse.\n",
    "!sudo apt-get install libsparsehash-dev"
   ]
  },
  {
   "cell_type": "code",
   "execution_count": null,
   "metadata": {},
   "outputs": [],
   "source": [
    "# The library used for plotting.\n",
    "!pip install plotly --upgrade 1>/dev/null\n",
    "# torchsparse is our high-performance 3D sparse convolution library.\n",
    "!pip install --upgrade git+https://github.com/mit-han-lab/torchsparse.git 1>/dev/null\n",
    "!pip install lzf"
   ]
  },
  {
   "cell_type": "code",
   "execution_count": null,
   "metadata": {},
   "outputs": [],
   "source": [
    "# numpy\n",
    "import numpy as np\n",
    "# PyTorch\n",
    "import torch\n",
    "import torch.nn as nn\n",
    "# torchsparse is our high-performance 3D sparse convolution library.\n",
    "import torchsparse\n",
    "import torchsparse.nn as spnn\n",
    "from torchsparse import SparseTensor\n",
    "from torchsparse.utils import sparse_quantize, sparse_collate_fn\n",
    "from pypcd import pypcd\n",
    "import numpy as np\n",
    "import struct\n",
    "import glob"
   ]
  },
  {
   "cell_type": "code",
   "execution_count": null,
   "metadata": {},
   "outputs": [],
   "source": [
    "def process_point_cloud(input_point_cloud, \n",
    "                        voxel_size=0.05, ignore_label=19):\n",
    "    input_point_cloud[:, 3] = input_point_cloud[:, 3]\n",
    "    # get rounded coordinates\n",
    "    pc_ = np.round(input_point_cloud[:, :3] / voxel_size)\n",
    "    pc_ -= pc_.min(0, keepdims=1)\n",
    "    feat_ = input_point_cloud\n",
    "    # filter out unlabeled points\n",
    "    out_pc = input_point_cloud\n",
    "    pc = pc_\n",
    "    feat = feat_\n",
    "    lidar = SparseTensor(\n",
    "        feat, pc\n",
    "    )\n",
    "    out_pc = SparseTensor(\n",
    "        out_pc, out_pc\n",
    "    )\n",
    "    # construct the feed_dict\n",
    "    feed_dict = {\n",
    "        'pc': out_pc,\n",
    "        'lidar': lidar,\n",
    "    }\n",
    "    \n",
    "    return feed_dict"
   ]
  },
  {
   "cell_type": "code",
   "execution_count": null,
   "metadata": {},
   "outputs": [],
   "source": [
    "# import SPVNAS model from model zoo\n",
    "device = 'cuda:0' if torch.cuda.is_available() else 'cpu'\n",
    "from model_zoo import spvnas_specialized\n",
    "model = spvnas_specialized('SemanticKITTI_val_SPVNAS@65GMACs').to(device)\n",
    "model.eval()"
   ]
  },
  {
   "cell_type": "code",
   "execution_count": null,
   "metadata": {},
   "outputs": [],
   "source": [
    "train_label_name_mapping = {\n",
    "        0: 'car', 1: 'bicycle', 2: 'motorcycle', 3: 'truck', 4:\n",
    "        'other-vehicle', 5: 'person', 6: 'bicyclist', 7: 'motorcyclist',\n",
    "        8: 'road', 9: 'parking', 10: 'sidewalk', 11: 'other-ground',\n",
    "        12: 'building', 13: 'fence', 14: 'vegetation', 15: 'trunk',\n",
    "        16: 'terrain', 17: 'pole', 18: 'traffic-sign'\n",
    "    }\n",
    "\n",
    "name_label_mapping = {\n",
    "        'unlabeled': 0, 'outlier': 1, 'car': 10, 'bicycle': 11,\n",
    "        'bus': 13, 'motorcycle': 15, 'on-rails': 16, 'truck': 18,\n",
    "        'other-vehicle': 20, 'person': 30, 'bicyclist': 31,\n",
    "        'motorcyclist': 32, 'road': 40, 'parking': 44,\n",
    "        'sidewalk': 48, 'other-ground': 49, 'building': 50,\n",
    "        'fence': 51, 'other-structure': 52, 'lane-marking': 60,\n",
    "        'vegetation': 70, 'trunk': 71, 'terrain': 72, 'pole': 80,\n",
    "        'traffic-sign': 81, 'other-object': 99, 'moving-car': 252,\n",
    "        'moving-bicyclist': 253, 'moving-person': 254, 'moving-motorcyclist': 255,\n",
    "        'moving-on-rails': 256, 'moving-bus': 257, 'moving-truck': 258,\n",
    "        'moving-other-vehicle': 259\n",
    "    }\n",
    "\n",
    "colorsmap={\n",
    "    \"0\" : [0, 0, 0],  \n",
    "    \"1\" : [0, 0, 255],\n",
    "    \"10\": [245, 150, 100],\n",
    "    \"11\": [245, 230, 100],\n",
    "    \"13\": [250, 80, 100],\n",
    "    \"15\": [150, 60, 30],\n",
    "    \"16\": [255, 0, 0],\n",
    "    \"18\": [180, 30, 80],\n",
    "    \"20\": [255, 0, 0],\n",
    "    \"30\": [30, 30, 255],\n",
    "    \"31\": [200, 40, 255],\n",
    "    \"32\": [90, 30, 150],\n",
    "    \"40\": [255, 0, 255],\n",
    "    \"44\": [255, 150, 255],\n",
    "    \"48\": [75, 0, 75],\n",
    "    \"49\": [75, 0, 175],\n",
    "    \"50\": [0, 200, 255],\n",
    "    \"51\": [50, 120, 255],\n",
    "    \"52\": [0, 150, 255],\n",
    "    \"60\": [170, 255, 150],\n",
    "    \"70\": [0, 175, 0],\n",
    "    \"71\": [0, 60, 135],\n",
    "    \"72\": [80, 240, 150],\n",
    "    \"80\": [150, 240, 255],\n",
    "    \"81\": [0, 0, 255],\n",
    "    \"99\": [255, 255, 50],\n",
    "    \"252\": [245, 150, 100],\n",
    "    \"256\": [255, 0, 0],\n",
    "    \"253\": [200, 40, 255],\n",
    "    \"254\": [30, 30, 255],\n",
    "    \"255\": [90, 30, 150],\n",
    "    \"257\": [250, 80, 100],\n",
    "    \"258\": [180, 30, 80],\n",
    "    \"259\": [255, 0, 0]\n",
    "  }\n",
    "\n",
    "def trans_lable(label_id):\n",
    "    return name_label_mapping[train_label_name_mapping[label_id]]\n",
    "\n",
    "def trans_color(color_id):\n",
    "    color_id=str(color_id)\n",
    "    buffer  =  struct.pack( \"!BBBB\" ,  0,*colorsmap[color_id])\n",
    "    return struct.unpack('!f', buffer)\n",
    "\n"
   ]
  },
  {
   "cell_type": "code",
   "execution_count": null,
   "metadata": {},
   "outputs": [],
   "source": [
    "def infer(inputfile,outputfile):\n",
    "    pc = pypcd.PointCloud.from_path(inputfile) \n",
    "    point_cloud=np.vstack((pc.pc_data['x'],pc.pc_data['y'],pc.pc_data['z']-1.73,pc.pc_data['intensity'])).T\n",
    "    point_cloud=point_cloud.reshape(-1,4)\n",
    "    feed_dict = sparse_collate_fn([process_point_cloud(point_cloud)])\n",
    "    inputs = feed_dict['lidar'].to(device)\n",
    "    outputs = model(inputs)\n",
    "    predictions = outputs.argmax(1).cpu().numpy()\n",
    "    points_label=np.asarray(list(map(trans_lable,predictions)))\n",
    "    colors=np.asarray(list(map(trans_color,points_label)),dtype=np.float32)\n",
    "    colors = colors.reshape([-1,1])\n",
    "    point_cloud[:,2]+=1.73\n",
    "    pointswithcolor=np.concatenate((point_cloud[:,0:3],colors),axis=1)\n",
    "    md_new = {'version': .7,\n",
    "        'fields': ['x', 'y', 'z','rgb'],\n",
    "        'size': [4, 4, 4, 4],\n",
    "        'type': ['F', 'F', 'F','F'],\n",
    "        'count': [1, 1, 1,1],\n",
    "        'width': len(pointswithcolor),\n",
    "        'height': 1,\n",
    "        'viewpoint': [0.0, 0.0, 0.0, 1.0, 0.0, 0.0, 0.0],\n",
    "        'points': len(pointswithcolor),\n",
    "        'data': 'binary'}\n",
    "    pc_new = pypcd.PointCloud(md_new, pointswithcolor)\n",
    "    pc_new.save_pcd(outputfile)"
   ]
  },
  {
   "cell_type": "code",
   "execution_count": null,
   "metadata": {},
   "outputs": [],
   "source": [
    "list_im=glob.glob('data/*.pcd'); list_im.sort()\n",
    "for i in range(0,len(list_im)):\n",
    "    outputfile=os.path.join('output',os.path.basename(list_im[i]))\n",
    "    print(\"post processing\\t\"+list_im[i])\n",
    "    infer(list_im[i],outputfile)"
   ]
  }
 ],
 "metadata": {
  "kernelspec": {
   "display_name": "Python 3",
   "language": "python",
   "name": "python3"
  },
  "language_info": {
   "codemirror_mode": {
    "name": "ipython",
    "version": 3
   },
   "file_extension": ".py",
   "mimetype": "text/x-python",
   "name": "python",
   "nbconvert_exporter": "python",
   "pygments_lexer": "ipython3",
   "version": "3.7.1"
  }
 },
 "nbformat": 4,
 "nbformat_minor": 2
}
